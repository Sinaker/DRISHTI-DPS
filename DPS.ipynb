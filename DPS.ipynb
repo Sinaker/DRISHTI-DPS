{
  "cells": [
    {
      "cell_type": "markdown",
      "metadata": {
        "id": "e7abe1ETjolc"
      },
      "source": [
        "# Importing dependencies"
      ]
    },
    {
      "cell_type": "code",
      "execution_count": 13,
      "metadata": {
        "id": "WICmLBqBjykR"
      },
      "outputs": [],
      "source": [
        "import pandas as pd\n",
        "import numpy as np\n",
        "from sklearn.model_selection import train_test_split"
      ]
    },
    {
      "cell_type": "code",
      "execution_count": 2,
      "metadata": {
        "colab": {
          "base_uri": "https://localhost:8080/"
        },
        "id": "L2-oScI2tSCq",
        "outputId": "cd12933b-1498-45ff-fef1-c76648365918"
      },
      "outputs": [
        {
          "data": {
            "text/plain": [
              "\"\\nfrom google.colab import drive\\ndrive.mount('/content/drive')\\n\""
            ]
          },
          "execution_count": 2,
          "metadata": {},
          "output_type": "execute_result"
        }
      ],
      "source": [
        "# If running from collab and your dataset is on your drive\n",
        "\n",
        "'''\n",
        "from google.colab import drive\n",
        "drive.mount('/content/drive')\n",
        "'''"
      ]
    },
    {
      "cell_type": "markdown",
      "metadata": {
        "id": "TswALUw5pFR_"
      },
      "source": [
        "# Data Collection & Processing"
      ]
    },
    {
      "cell_type": "code",
      "execution_count": 20,
      "metadata": {
        "id": "PMUB3klRj27W"
      },
      "outputs": [
        {
          "name": "stdout",
          "output_type": "stream",
          "text": [
            "Extracted './DPS_data.zip' to 'data'\n"
          ]
        }
      ],
      "source": [
        "# Extracting zip file into a folder named 'data'\n",
        "\n",
        "import zipfile\n",
        "import os\n",
        "\n",
        "zip_file_path = './DPS_data.zip'\n",
        "extract_to_dir = 'data'\n",
        "\n",
        "os.makedirs(extract_to_dir, exist_ok=True) # Making req folders\n",
        "\n",
        "with zipfile.ZipFile(zip_file_path, 'r') as zip_ref:\n",
        "    zip_ref.extractall(extract_to_dir)\n"
      ]
    },
    {
      "cell_type": "code",
      "execution_count": 21,
      "metadata": {
        "colab": {
          "base_uri": "https://localhost:8080/",
          "height": 429
        },
        "id": "t6uruPqEqDjV",
        "outputId": "91ee39aa-4a9a-483e-d419-bb245e47755d"
      },
      "outputs": [
        {
          "data": {
            "text/html": [
              "<div>\n",
              "<style scoped>\n",
              "    .dataframe tbody tr th:only-of-type {\n",
              "        vertical-align: middle;\n",
              "    }\n",
              "\n",
              "    .dataframe tbody tr th {\n",
              "        vertical-align: top;\n",
              "    }\n",
              "\n",
              "    .dataframe thead th {\n",
              "        text-align: right;\n",
              "    }\n",
              "</style>\n",
              "<table border=\"1\" class=\"dataframe\">\n",
              "  <thead>\n",
              "    <tr style=\"text-align: right;\">\n",
              "      <th></th>\n",
              "      <th>Unnamed: 0</th>\n",
              "      <th>diseases</th>\n",
              "      <th>anxiety and nervousness</th>\n",
              "      <th>depression</th>\n",
              "      <th>shortness of breath</th>\n",
              "      <th>depressive or psychotic symptoms</th>\n",
              "      <th>sharp chest pain</th>\n",
              "      <th>dizziness</th>\n",
              "      <th>insomnia</th>\n",
              "      <th>abnormal involuntary movements</th>\n",
              "      <th>...</th>\n",
              "      <th>redness in or around nose</th>\n",
              "      <th>wrinkles on skin</th>\n",
              "      <th>foot or toe weakness</th>\n",
              "      <th>hand or finger cramps or spasms</th>\n",
              "      <th>back stiffness or tightness</th>\n",
              "      <th>wrist lump or mass</th>\n",
              "      <th>skin pain</th>\n",
              "      <th>low urine output</th>\n",
              "      <th>sore in nose</th>\n",
              "      <th>ankle weakness</th>\n",
              "    </tr>\n",
              "  </thead>\n",
              "  <tbody>\n",
              "    <tr>\n",
              "      <th>0</th>\n",
              "      <td>0</td>\n",
              "      <td>panic disorder</td>\n",
              "      <td>1</td>\n",
              "      <td>0</td>\n",
              "      <td>1</td>\n",
              "      <td>1</td>\n",
              "      <td>0</td>\n",
              "      <td>0</td>\n",
              "      <td>0</td>\n",
              "      <td>0</td>\n",
              "      <td>...</td>\n",
              "      <td>0</td>\n",
              "      <td>0</td>\n",
              "      <td>0</td>\n",
              "      <td>0</td>\n",
              "      <td>0</td>\n",
              "      <td>0</td>\n",
              "      <td>0</td>\n",
              "      <td>0</td>\n",
              "      <td>0</td>\n",
              "      <td>0</td>\n",
              "    </tr>\n",
              "    <tr>\n",
              "      <th>1</th>\n",
              "      <td>1</td>\n",
              "      <td>panic disorder</td>\n",
              "      <td>0</td>\n",
              "      <td>0</td>\n",
              "      <td>1</td>\n",
              "      <td>1</td>\n",
              "      <td>0</td>\n",
              "      <td>1</td>\n",
              "      <td>1</td>\n",
              "      <td>0</td>\n",
              "      <td>...</td>\n",
              "      <td>0</td>\n",
              "      <td>0</td>\n",
              "      <td>0</td>\n",
              "      <td>0</td>\n",
              "      <td>0</td>\n",
              "      <td>0</td>\n",
              "      <td>0</td>\n",
              "      <td>0</td>\n",
              "      <td>0</td>\n",
              "      <td>0</td>\n",
              "    </tr>\n",
              "    <tr>\n",
              "      <th>2</th>\n",
              "      <td>2</td>\n",
              "      <td>panic disorder</td>\n",
              "      <td>1</td>\n",
              "      <td>1</td>\n",
              "      <td>1</td>\n",
              "      <td>1</td>\n",
              "      <td>0</td>\n",
              "      <td>1</td>\n",
              "      <td>1</td>\n",
              "      <td>0</td>\n",
              "      <td>...</td>\n",
              "      <td>0</td>\n",
              "      <td>0</td>\n",
              "      <td>0</td>\n",
              "      <td>0</td>\n",
              "      <td>0</td>\n",
              "      <td>0</td>\n",
              "      <td>0</td>\n",
              "      <td>0</td>\n",
              "      <td>0</td>\n",
              "      <td>0</td>\n",
              "    </tr>\n",
              "    <tr>\n",
              "      <th>3</th>\n",
              "      <td>3</td>\n",
              "      <td>panic disorder</td>\n",
              "      <td>1</td>\n",
              "      <td>0</td>\n",
              "      <td>0</td>\n",
              "      <td>1</td>\n",
              "      <td>0</td>\n",
              "      <td>1</td>\n",
              "      <td>1</td>\n",
              "      <td>1</td>\n",
              "      <td>...</td>\n",
              "      <td>0</td>\n",
              "      <td>0</td>\n",
              "      <td>0</td>\n",
              "      <td>0</td>\n",
              "      <td>0</td>\n",
              "      <td>0</td>\n",
              "      <td>0</td>\n",
              "      <td>0</td>\n",
              "      <td>0</td>\n",
              "      <td>0</td>\n",
              "    </tr>\n",
              "    <tr>\n",
              "      <th>4</th>\n",
              "      <td>4</td>\n",
              "      <td>panic disorder</td>\n",
              "      <td>1</td>\n",
              "      <td>1</td>\n",
              "      <td>0</td>\n",
              "      <td>0</td>\n",
              "      <td>0</td>\n",
              "      <td>0</td>\n",
              "      <td>1</td>\n",
              "      <td>1</td>\n",
              "      <td>...</td>\n",
              "      <td>0</td>\n",
              "      <td>0</td>\n",
              "      <td>0</td>\n",
              "      <td>0</td>\n",
              "      <td>0</td>\n",
              "      <td>0</td>\n",
              "      <td>0</td>\n",
              "      <td>0</td>\n",
              "      <td>0</td>\n",
              "      <td>0</td>\n",
              "    </tr>\n",
              "  </tbody>\n",
              "</table>\n",
              "<p>5 rows × 330 columns</p>\n",
              "</div>"
            ],
            "text/plain": [
              "   Unnamed: 0        diseases  anxiety and nervousness  depression  \\\n",
              "0           0  panic disorder                        1           0   \n",
              "1           1  panic disorder                        0           0   \n",
              "2           2  panic disorder                        1           1   \n",
              "3           3  panic disorder                        1           0   \n",
              "4           4  panic disorder                        1           1   \n",
              "\n",
              "   shortness of breath  depressive or psychotic symptoms  sharp chest pain  \\\n",
              "0                    1                                 1                 0   \n",
              "1                    1                                 1                 0   \n",
              "2                    1                                 1                 0   \n",
              "3                    0                                 1                 0   \n",
              "4                    0                                 0                 0   \n",
              "\n",
              "   dizziness  insomnia  abnormal involuntary movements  ...  \\\n",
              "0          0         0                               0  ...   \n",
              "1          1         1                               0  ...   \n",
              "2          1         1                               0  ...   \n",
              "3          1         1                               1  ...   \n",
              "4          0         1                               1  ...   \n",
              "\n",
              "   redness in or around nose  wrinkles on skin  foot or toe weakness  \\\n",
              "0                          0                 0                     0   \n",
              "1                          0                 0                     0   \n",
              "2                          0                 0                     0   \n",
              "3                          0                 0                     0   \n",
              "4                          0                 0                     0   \n",
              "\n",
              "   hand or finger cramps or spasms  back stiffness or tightness  \\\n",
              "0                                0                            0   \n",
              "1                                0                            0   \n",
              "2                                0                            0   \n",
              "3                                0                            0   \n",
              "4                                0                            0   \n",
              "\n",
              "   wrist lump or mass  skin pain  low urine output  sore in nose  \\\n",
              "0                   0          0                 0             0   \n",
              "1                   0          0                 0             0   \n",
              "2                   0          0                 0             0   \n",
              "3                   0          0                 0             0   \n",
              "4                   0          0                 0             0   \n",
              "\n",
              "   ankle weakness  \n",
              "0               0  \n",
              "1               0  \n",
              "2               0  \n",
              "3               0  \n",
              "4               0  \n",
              "\n",
              "[5 rows x 330 columns]"
            ]
          },
          "execution_count": 21,
          "metadata": {},
          "output_type": "execute_result"
        }
      ],
      "source": [
        "#printing the first 5 rows of the dataframe\n",
        "data = pd.read_csv('./data/your_dataset.csv')\n",
        "data.head()"
      ]
    },
    {
      "cell_type": "code",
      "execution_count": 4,
      "metadata": {
        "colab": {
          "base_uri": "https://localhost:8080/"
        },
        "id": "AcjnruZKs_vG",
        "outputId": "29249e77-79eb-4d90-8198-8d21b0b8e7d2"
      },
      "outputs": [
        {
          "name": "stdout",
          "output_type": "stream",
          "text": [
            "<class 'pandas.core.frame.DataFrame'>\n",
            "RangeIndex: 246945 entries, 0 to 246944\n",
            "Columns: 330 entries, Unnamed: 0 to ankle weakness\n",
            "dtypes: int64(329), object(1)\n",
            "memory usage: 621.7+ MB\n"
          ]
        }
      ],
      "source": [
        "data.info()"
      ]
    },
    {
      "cell_type": "markdown",
      "metadata": {},
      "source": [
        "Since each symptom only consists of 0 and 1 it will be much better to have the data in uint8 (1byte) instead of int64 (8bytes)"
      ]
    },
    {
      "cell_type": "code",
      "execution_count": 5,
      "metadata": {
        "colab": {
          "base_uri": "https://localhost:8080/"
        },
        "id": "UHUU7hH1s_vH",
        "outputId": "11ff5924-ea90-445b-fd6a-ab17506eed4f"
      },
      "outputs": [
        {
          "name": "stdout",
          "output_type": "stream",
          "text": [
            "<class 'pandas.core.frame.DataFrame'>\n",
            "RangeIndex: 246945 entries, 0 to 246944\n",
            "Columns: 330 entries, Unnamed: 0 to ankle weakness\n",
            "dtypes: object(1), uint8(329)\n",
            "memory usage: 79.4+ MB\n"
          ]
        }
      ],
      "source": [
        "binary_columns = data.drop(columns='diseases').columns  # Exclude 'disease' column\n",
        "data[binary_columns] = data[binary_columns].astype('uint8')\n",
        "\n",
        "data.info()"
      ]
    },
    {
      "cell_type": "markdown",
      "metadata": {
        "id": "9mhqUQcds_vH"
      },
      "source": [
        "Note the drastic decrease in memory usage (Almost 8 times!)"
      ]
    },
    {
      "cell_type": "code",
      "execution_count": 6,
      "metadata": {
        "colab": {
          "base_uri": "https://localhost:8080/"
        },
        "id": "3SVOuE46qKC4",
        "outputId": "ecc48e62-d7ac-463c-b1b2-dbecf4c855d3"
      },
      "outputs": [
        {
          "data": {
            "text/plain": [
              "(246945, 330)"
            ]
          },
          "execution_count": 6,
          "metadata": {},
          "output_type": "execute_result"
        }
      ],
      "source": [
        "#number of rows and columns\n",
        "data.shape"
      ]
    },
    {
      "cell_type": "code",
      "execution_count": 7,
      "metadata": {
        "colab": {
          "base_uri": "https://localhost:8080/"
        },
        "id": "KUQT22gzqoPt",
        "outputId": "8ccd5030-1aa0-44ab-e950-d5dc0c8eb7cc"
      },
      "outputs": [
        {
          "data": {
            "text/plain": [
              "773"
            ]
          },
          "execution_count": 7,
          "metadata": {},
          "output_type": "execute_result"
        }
      ],
      "source": [
        "#number of unique diseases\n",
        "len(data['diseases'].unique())"
      ]
    },
    {
      "cell_type": "code",
      "execution_count": 14,
      "metadata": {
        "colab": {
          "base_uri": "https://localhost:8080/",
          "height": 458
        },
        "id": "sL9JAimjsBlm",
        "outputId": "c8f1182b-2500-4b9d-81c9-5b88d98b1cac"
      },
      "outputs": [
        {
          "data": {
            "text/plain": [
              "Unnamed: 0                 0\n",
              "diseases                   0\n",
              "anxiety and nervousness    0\n",
              "depression                 0\n",
              "shortness of breath        0\n",
              "                          ..\n",
              "wrist lump or mass         0\n",
              "skin pain                  0\n",
              "low urine output           0\n",
              "sore in nose               0\n",
              "ankle weakness             0\n",
              "Length: 330, dtype: int64"
            ]
          },
          "execution_count": 14,
          "metadata": {},
          "output_type": "execute_result"
        }
      ],
      "source": [
        "#check no. of missing values in each column\n",
        "data.isnull().sum()"
      ]
    },
    {
      "cell_type": "markdown",
      "metadata": {
        "id": "usV4tWpdtipa"
      },
      "source": [
        "Our dataset comprises 773 diseases and  329 symptoms, with no missing values. As a result, there is no need for any missing value handling procedures."
      ]
    },
    {
      "cell_type": "markdown",
      "metadata": {
        "id": "O6-oxPZgx-0l"
      },
      "source": [
        "# Spliting into training & test data"
      ]
    },
    {
      "cell_type": "markdown",
      "metadata": {
        "id": "ZQ0hhwq0ypYj"
      },
      "source": [
        "Seperating feature & target"
      ]
    },
    {
      "cell_type": "code",
      "execution_count": 15,
      "metadata": {
        "id": "4zKt-4AWvV9G"
      },
      "outputs": [],
      "source": [
        "X = data.drop(columns='diseases', axis=1)\n",
        "y = data['diseases']"
      ]
    },
    {
      "cell_type": "markdown",
      "metadata": {
        "id": "pJCZRUM_4LG0"
      },
      "source": [
        "### Encoding the Categorical columns   \n",
        "(not requried you can have the labels inputted directly)"
      ]
    },
    {
      "cell_type": "code",
      "execution_count": 16,
      "metadata": {
        "id": "bRRcOMpN4RT-"
      },
      "outputs": [],
      "source": [
        "# Y = LabelEncoder().fit_transform(y)"
      ]
    },
    {
      "cell_type": "markdown",
      "metadata": {
        "id": "uq1z99c6zFe0"
      },
      "source": [
        "Spliting the data into training data & test data"
      ]
    },
    {
      "cell_type": "code",
      "execution_count": 17,
      "metadata": {
        "id": "XJCrprUIynVW"
      },
      "outputs": [],
      "source": [
        "X_train, X_test, y_train, y_test = train_test_split(X, y, test_size=0.2, random_state=42)"
      ]
    },
    {
      "cell_type": "markdown",
      "metadata": {
        "id": "Kef0Mbjtz2hL"
      },
      "source": [
        "Shape of training data & test data"
      ]
    },
    {
      "cell_type": "code",
      "execution_count": 18,
      "metadata": {
        "colab": {
          "base_uri": "https://localhost:8080/"
        },
        "id": "iKRbpoz2y4JY",
        "outputId": "586db8f6-a934-4566-ad8a-00a4ea2b6e4b"
      },
      "outputs": [
        {
          "name": "stdout",
          "output_type": "stream",
          "text": [
            "(246945, 329) (197556, 329) (49389, 329)\n"
          ]
        }
      ],
      "source": [
        "print(X.shape, X_train.shape, X_test.shape)"
      ]
    },
    {
      "cell_type": "code",
      "execution_count": 19,
      "metadata": {
        "colab": {
          "base_uri": "https://localhost:8080/"
        },
        "id": "ze8sJXbmzfvw",
        "outputId": "05c68f2b-5843-41e9-f4b8-3698421f6dba"
      },
      "outputs": [
        {
          "name": "stdout",
          "output_type": "stream",
          "text": [
            "(246945,) (197556,) (49389,)\n"
          ]
        }
      ],
      "source": [
        "print(y.shape, y_train.shape, y_test.shape)"
      ]
    }
  ],
  "metadata": {
    "colab": {
      "provenance": []
    },
    "kernelspec": {
      "display_name": "Python 3",
      "name": "python3"
    },
    "language_info": {
      "codemirror_mode": {
        "name": "ipython",
        "version": 3
      },
      "file_extension": ".py",
      "mimetype": "text/x-python",
      "name": "python",
      "nbconvert_exporter": "python",
      "pygments_lexer": "ipython3",
      "version": "3.12.3"
    }
  },
  "nbformat": 4,
  "nbformat_minor": 0
}
